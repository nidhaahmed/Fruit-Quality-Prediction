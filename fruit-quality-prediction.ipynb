{
 "cells": [
  {
   "cell_type": "code",
   "execution_count": null,
   "id": "1ce0bd6a",
   "metadata": {
    "_cell_guid": "b1076dfc-b9ad-4769-8c92-a6c4dae69d19",
    "_uuid": "8f2839f25d086af736a60e9eeb907d3b93b6e0e5",
    "execution": {
     "iopub.execute_input": "2024-02-25T12:50:06.246877Z",
     "iopub.status.busy": "2024-02-25T12:50:06.246495Z",
     "iopub.status.idle": "2024-02-25T12:50:24.128456Z",
     "shell.execute_reply": "2024-02-25T12:50:24.127084Z"
    },
    "papermill": {
     "duration": 17.891385,
     "end_time": "2024-02-25T12:50:24.131219",
     "exception": false,
     "start_time": "2024-02-25T12:50:06.239834",
     "status": "completed"
    },
    "tags": []
   },
   "outputs": [],
   "source": [
    "import numpy as np\n",
    "import pandas as pd \n",
    "import matplotlib.pyplot as plt\n",
    "import seaborn as sns\n",
    "from sklearn.preprocessing import MinMaxScaler\n",
    "from sklearn.model_selection import train_test_split\n",
    "import tensorflow as tf\n",
    "import keras\n",
    "from keras import layers\n",
    "import os\n",
    "for dirname, _, filenames in os.walk('/kaggle/input'):\n",
    "    for filename in filenames:\n",
    "        print(os.path.join(dirname, filename))"
   ]
  },
  {
   "cell_type": "code",
   "execution_count": null,
   "id": "9353ee3f",
   "metadata": {
    "execution": {
     "iopub.execute_input": "2024-02-25T12:50:24.142275Z",
     "iopub.status.busy": "2024-02-25T12:50:24.141559Z",
     "iopub.status.idle": "2024-02-25T12:50:26.211670Z",
     "shell.execute_reply": "2024-02-25T12:50:26.210500Z"
    },
    "papermill": {
     "duration": 2.07867,
     "end_time": "2024-02-25T12:50:26.214578",
     "exception": false,
     "start_time": "2024-02-25T12:50:24.135908",
     "status": "completed"
    },
    "tags": []
   },
   "outputs": [],
   "source": [
    "train_df = pd.read_csv('/kaggle/input/aids-data-quest-society/train_ds.csv', index_col=0)\n",
    "train_df.dropna(inplace=True) \n",
    "train_df['Acidity'] = train_df['Acidity'].astype(float)\n",
    "train_df['Quality'] = train_df['Quality'].map({\"good\": 1, \"bad\": 0})\n",
    "plt.rcParams['figure.figsize']=[20,10]\n",
    "train_df.hist()\n",
    "plt.show"
   ]
  },
  {
   "cell_type": "code",
   "execution_count": null,
   "id": "e308edc9",
   "metadata": {
    "execution": {
     "iopub.execute_input": "2024-02-25T12:50:26.227468Z",
     "iopub.status.busy": "2024-02-25T12:50:26.227110Z",
     "iopub.status.idle": "2024-02-25T12:50:29.278185Z",
     "shell.execute_reply": "2024-02-25T12:50:29.277016Z"
    },
    "papermill": {
     "duration": 3.062865,
     "end_time": "2024-02-25T12:50:29.283081",
     "exception": false,
     "start_time": "2024-02-25T12:50:26.220216",
     "status": "completed"
    },
    "tags": []
   },
   "outputs": [],
   "source": [
    "plt.rcParams['figure.figsize']=[20,30]\n",
    "train_df.plot(kind='density',subplots=True,sharex=True)\n",
    "plt.show()"
   ]
  },
  {
   "cell_type": "code",
   "execution_count": null,
   "id": "293ad3a3",
   "metadata": {
    "execution": {
     "iopub.execute_input": "2024-02-25T12:50:29.302417Z",
     "iopub.status.busy": "2024-02-25T12:50:29.301612Z",
     "iopub.status.idle": "2024-02-25T12:50:29.528569Z",
     "shell.execute_reply": "2024-02-25T12:50:29.527548Z"
    },
    "papermill": {
     "duration": 0.239527,
     "end_time": "2024-02-25T12:50:29.531218",
     "exception": false,
     "start_time": "2024-02-25T12:50:29.291691",
     "status": "completed"
    },
    "tags": []
   },
   "outputs": [],
   "source": [
    "scaler = MinMaxScaler(feature_range=(0,1))\n",
    "scaled_train = scaler.fit_transform(train_df.iloc[:, :-1])\n",
    "x_train = scaled_train\n",
    "y_train = train_df['Quality'].values\n",
    "input_shape = [x_train.shape[1]]\n",
    "model = keras.Sequential([\n",
    "    layers.BatchNormalization(input_shape=input_shape),\n",
    "    layers.Dense(units=128, activation='relu'),\n",
    "    layers.BatchNormalization(),\n",
    "    layers.Dropout(0.5),\n",
    "    layers.Dense(units=64, activation='relu'),\n",
    "    layers.BatchNormalization(),\n",
    "    layers.Dropout(0.5),\n",
    "    layers.Dense(units=1, activation='sigmoid')    \n",
    "])"
   ]
  },
  {
   "cell_type": "code",
   "execution_count": null,
   "id": "fddce66e",
   "metadata": {
    "execution": {
     "iopub.execute_input": "2024-02-25T12:50:29.549662Z",
     "iopub.status.busy": "2024-02-25T12:50:29.549266Z",
     "iopub.status.idle": "2024-02-25T12:50:29.608598Z",
     "shell.execute_reply": "2024-02-25T12:50:29.607393Z"
    },
    "papermill": {
     "duration": 0.071657,
     "end_time": "2024-02-25T12:50:29.611174",
     "exception": false,
     "start_time": "2024-02-25T12:50:29.539517",
     "status": "completed"
    },
    "tags": []
   },
   "outputs": [],
   "source": [
    "model.summary()\n",
    "model.compile(\n",
    "    optimizer='adam',\n",
    "    loss='binary_crossentropy',\n",
    "    metrics='binary_accuracy'\n",
    ")"
   ]
  },
  {
   "cell_type": "code",
   "execution_count": null,
   "id": "892ba578",
   "metadata": {
    "execution": {
     "iopub.execute_input": "2024-02-25T12:50:29.635474Z",
     "iopub.status.busy": "2024-02-25T12:50:29.635107Z",
     "iopub.status.idle": "2024-02-25T12:50:49.030533Z",
     "shell.execute_reply": "2024-02-25T12:50:49.029299Z"
    },
    "papermill": {
     "duration": 19.411063,
     "end_time": "2024-02-25T12:50:49.033440",
     "exception": false,
     "start_time": "2024-02-25T12:50:29.622377",
     "status": "completed"
    },
    "tags": []
   },
   "outputs": [],
   "source": [
    "history = model.fit(\n",
    "    x_train, y_train,\n",
    "    batch_size=128,\n",
    "    epochs=200,\n",
    "    callbacks=[keras.callbacks.EarlyStopping(patience=5, min_delta=0.001, restore_best_weights=True)]\n",
    ")"
   ]
  },
  {
   "cell_type": "code",
   "execution_count": null,
   "id": "36fb14f4",
   "metadata": {
    "execution": {
     "iopub.execute_input": "2024-02-25T12:50:49.206601Z",
     "iopub.status.busy": "2024-02-25T12:50:49.206199Z",
     "iopub.status.idle": "2024-02-25T12:50:49.501812Z",
     "shell.execute_reply": "2024-02-25T12:50:49.500651Z"
    },
    "papermill": {
     "duration": 0.384453,
     "end_time": "2024-02-25T12:50:49.504358",
     "exception": false,
     "start_time": "2024-02-25T12:50:49.119905",
     "status": "completed"
    },
    "tags": []
   },
   "outputs": [],
   "source": [
    "test_df = pd.read_csv('/kaggle/input/aids-data-quest-society/test_ds.csv')\n",
    "test_df.dropna(inplace=True)\n",
    "scaled_test = scaler.transform(test_df.iloc[:, 1:])\n",
    "submission_predictions = model.predict(scaled_test)\n",
    "submission_predictions = np.round(submission_predictions).astype(int)\n",
    "submission_labels = {1: 'good', 0: 'bad'}\n",
    "submission_predictions = [submission_labels[pred[0]] for pred in submission_predictions]\n",
    "submission_df = pd.DataFrame({'ID': test_df['ID'], 'Quality': submission_predictions})\n",
    "submission_df.to_csv('submission.csv', index=False)\n",
    "submission_df"
   ]
  },
  {
   "cell_type": "code",
   "execution_count": null,
   "id": "260c1f00",
   "metadata": {
    "execution": {
     "iopub.execute_input": "2024-02-25T12:50:49.681328Z",
     "iopub.status.busy": "2024-02-25T12:50:49.680130Z",
     "iopub.status.idle": "2024-02-25T12:50:49.972806Z",
     "shell.execute_reply": "2024-02-25T12:50:49.971550Z"
    },
    "papermill": {
     "duration": 0.382882,
     "end_time": "2024-02-25T12:50:49.975595",
     "exception": false,
     "start_time": "2024-02-25T12:50:49.592713",
     "status": "completed"
    },
    "tags": []
   },
   "outputs": [],
   "source": [
    "from sklearn.metrics import accuracy_score, mean_absolute_error, precision_score, classification_report\n",
    "y_pred_train = model.predict(x_train)\n",
    "y_pred_train = np.round(y_pred_train).astype(int)\n",
    "acc=accuracy_score(y_train, y_pred_train)\n",
    "print('accuracy : ',acc)\n",
    "prec = precision_score(y_train, y_pred_train)\n",
    "print('precision : ',prec)\n",
    "mae = mean_absolute_error(y_train, y_pred_train)\n",
    "print('MAE : ',mae)\n",
    "report=classification_report(y_train, y_pred_train)\n",
    "print('report : ',report)"
   ]
  },
  {
   "cell_type": "code",
   "execution_count": null,
   "id": "05064cfc",
   "metadata": {
    "execution": {
     "iopub.execute_input": "2024-02-25T12:50:50.153905Z",
     "iopub.status.busy": "2024-02-25T12:50:50.153513Z",
     "iopub.status.idle": "2024-02-25T12:50:50.162816Z",
     "shell.execute_reply": "2024-02-25T12:50:50.161680Z"
    },
    "papermill": {
     "duration": 0.100111,
     "end_time": "2024-02-25T12:50:50.165348",
     "exception": false,
     "start_time": "2024-02-25T12:50:50.065237",
     "status": "completed"
    },
    "tags": []
   },
   "outputs": [],
   "source": [
    "output_file_path = '/kaggle/working/classification_report.csv'\n",
    "with open(output_file_path, 'w') as f:\n",
    "    f.write(\"Accuracy: {}\\n\".format(acc))\n",
    "    f.write(\"Mean Absolute Error: {}\".format(mae))\n",
    "    f.write(\"Classification Report:\\n\")\n",
    "    f.write(report)\n",
    "output_file_path"
   ]
  }
 ],
 "metadata": {
  "kaggle": {
   "accelerator": "none",
   "dataSources": [
    {
     "databundleVersionId": 7731816,
     "sourceId": 70769,
     "sourceType": "competition"
    }
   ],
   "dockerImageVersionId": 30646,
   "isGpuEnabled": false,
   "isInternetEnabled": true,
   "language": "python",
   "sourceType": "notebook"
  },
  "kernelspec": {
   "display_name": "Python 3",
   "language": "python",
   "name": "python3"
  },
  "language_info": {
   "codemirror_mode": {
    "name": "ipython",
    "version": 3
   },
   "file_extension": ".py",
   "mimetype": "text/x-python",
   "name": "python",
   "nbconvert_exporter": "python",
   "pygments_lexer": "ipython3",
   "version": "3.12.0"
  },
  "papermill": {
   "default_parameters": {},
   "duration": 48.839158,
   "end_time": "2024-02-25T12:50:51.977536",
   "environment_variables": {},
   "exception": null,
   "input_path": "__notebook__.ipynb",
   "output_path": "__notebook__.ipynb",
   "parameters": {},
   "start_time": "2024-02-25T12:50:03.138378",
   "version": "2.5.0"
  }
 },
 "nbformat": 4,
 "nbformat_minor": 5
}
